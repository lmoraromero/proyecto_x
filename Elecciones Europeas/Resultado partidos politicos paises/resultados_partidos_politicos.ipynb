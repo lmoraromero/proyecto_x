{
 "cells": [
  {
   "cell_type": "code",
   "execution_count": 2,
   "metadata": {},
   "outputs": [],
   "source": [
    "import pandas as pd"
   ]
  },
  {
   "cell_type": "code",
   "execution_count": 3,
   "metadata": {},
   "outputs": [],
   "source": [
    "df1 = pd.read_csv('results-parties-at.csv', delimiter = ';')\n",
    "df2 = pd.read_csv('results-parties-be.csv', delimiter = ';')\n",
    "df3 = pd.read_csv('results-parties-bg.csv', delimiter = ';')\n",
    "df4 = pd.read_csv('results-parties-cy.csv', delimiter = ';')\n",
    "df5 = pd.read_csv('results-parties-cz.csv', delimiter = ';')\n",
    "df6 = pd.read_csv('results-parties-de.csv', delimiter = ';')\n",
    "df7 = pd.read_csv('results-parties-dk.csv', delimiter = ';')\n",
    "df8 = pd.read_csv('results-parties-ee.csv', delimiter = ';')\n",
    "df9 = pd.read_csv('results-parties-el.csv', delimiter = ';')\n",
    "df10 = pd.read_csv('results-parties-es.csv', delimiter = ';')\n",
    "df11 = pd.read_csv('results-parties-fbe.csv', delimiter = ';')\n",
    "df12 = pd.read_csv('results-parties-fi.csv', delimiter = ';')\n",
    "df13 = pd.read_csv('results-parties-fr.csv', delimiter = ';')\n",
    "df14 = pd.read_csv('results-parties-gbe.csv', delimiter = ';')\n",
    "df15 = pd.read_csv('results-parties-hr.csv', delimiter = ';')\n",
    "df16 = pd.read_csv('results-parties-hu.csv', delimiter = ';')\n",
    "df17 = pd.read_csv('results-parties-ie.csv', delimiter = ';')\n",
    "df18 = pd.read_csv('results-parties-it.csv', delimiter=';')\n",
    "df19 = pd.read_csv('results-parties-lt.csv', delimiter=';')\n",
    "df20 = pd.read_csv('results-parties-lu.csv', delimiter = ';')\n",
    "df21 = pd.read_csv('results-parties-lv.csv', delimiter = ';')\n",
    "df22 = pd.read_csv('results-parties-mt.csv', delimiter = ';')\n",
    "df23 = pd.read_csv('results-parties-nl.csv', delimiter = ';')\n",
    "df24 = pd.read_csv('results-parties-pl.csv', delimiter = ';')\n",
    "df25 = pd.read_csv('results-parties-pt.csv', delimiter = ';')\n",
    "df26 = pd.read_csv('results-parties-ro.csv', delimiter = ';')\n",
    "df27 = pd.read_csv('results-parties-se.csv', delimiter = ';')\n",
    "df28 = pd.read_csv('results-parties-si.csv', delimiter = ';')\n",
    "df29 = pd.read_csv('results-parties-sk.csv', delimiter = ';')\n",
    "df30 = pd.read_csv('results-parties-wbe.csv', delimiter = ';')"
   ]
  },
  {
   "cell_type": "code",
   "execution_count": 4,
   "metadata": {},
   "outputs": [],
   "source": [
    "paises_partidos_politicos = pd.concat([df1, df2, df3, df4, df5, df6, df7, df8, df9, df10, df11, df12, df13, df14, \n",
    "                                       df15, df16, df17, df18, df19, df20, df21, df22, df23, df24, df25, df26, \n",
    "                                    df27, df28, df29, df30], ignore_index=True)"
   ]
  },
  {
   "cell_type": "code",
   "execution_count": 5,
   "metadata": {},
   "outputs": [],
   "source": [
    "paises_partidos_politicos.to_csv('paises_partidos_politicos.csv', index=False)"
   ]
  }
 ],
 "metadata": {
  "language_info": {
   "name": "python"
  }
 },
 "nbformat": 4,
 "nbformat_minor": 2
}
